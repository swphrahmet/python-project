{
  "nbformat": 4,
  "nbformat_minor": 0,
  "metadata": {
    "colab": {
      "name": "Untitled5.ipynb",
      "provenance": []
    },
    "kernelspec": {
      "name": "python3",
      "display_name": "Python 3"
    },
    "language_info": {
      "name": "python"
    }
  },
  "cells": [
    {
      "cell_type": "code",
      "metadata": {
        "colab": {
          "base_uri": "https://localhost:8080/"
        },
        "id": "IwpOKsI8nf5a",
        "outputId": "70d49fc1-6a5b-4481-b94d-63f6e0b62be3"
      },
      "source": [
        "x = int(input(\"tell me a number\"))\n",
        "if x == 2:\n",
        "  print(x, \"yes it is a prime\")\n",
        "elif x > 1:\n",
        "  for i in range(2,x):\n",
        "    if (x % i) == 0:\n",
        "      print(x , \"not prime\")\n",
        "      break\n",
        "    else:\n",
        "      print(x, \"yes it is a prime\")\n",
        "      break\n",
        "else:\n",
        "  print(\"try agin\")\n",
        "  x = int(input(\"sayı söyle\"))"
      ],
      "execution_count": 38,
      "outputs": [
        {
          "output_type": "stream",
          "text": [
            "tell me a number9821\n",
            "9821 yes it is a prime\n"
          ],
          "name": "stdout"
        }
      ]
    }
  ]
}