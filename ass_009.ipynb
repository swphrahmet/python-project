{
  "nbformat": 4,
  "nbformat_minor": 0,
  "metadata": {
    "colab": {
      "name": "ass-009",
      "provenance": [],
      "collapsed_sections": []
    },
    "kernelspec": {
      "name": "python3",
      "display_name": "Python 3"
    },
    "language_info": {
      "name": "python"
    }
  },
  "cells": [
    {
      "cell_type": "code",
      "metadata": {
        "colab": {
          "base_uri": "https://localhost:8080/"
        },
        "id": "t948lUf9P_XK",
        "outputId": "896c7544-e6e6-4d97-f8fc-15ef9909fae7"
      },
      "source": [
        "x = str(input(\"isminizi giriniz\").strip())\n",
        "if x == \"ahmet\":\n",
        "  print(\"merhaba ahmet şifren 'en kral hoca Joesph hocadır', sisteme giriş yapabilirsin\")\n",
        "else:\n",
        "  print(\"bilemedin, hoşçakal\")"
      ],
      "execution_count": 7,
      "outputs": [
        {
          "output_type": "stream",
          "text": [
            "isminizi girinizsad\n",
            "bilemedin, hoşçakal\n"
          ],
          "name": "stdout"
        }
      ]
    }
  ]
}